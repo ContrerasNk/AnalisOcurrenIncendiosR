{
 "cells": [
  {
   "cell_type": "markdown",
   "id": "ee9e19a0",
   "metadata": {},
   "source": [
    "# Aplicación del Filtro Savitsky Golay para los productos NDVI del MOD13Q1"
   ]
  },
  {
   "cell_type": "markdown",
   "id": "760ad7aa",
   "metadata": {},
   "source": [
    "## Importando librerías"
   ]
  },
  {
   "cell_type": "code",
   "execution_count": 1,
   "id": "b95f7c84",
   "metadata": {},
   "outputs": [],
   "source": [
    "import numpy as np ## Para realizar cálculos con matrices \n",
    "import pandas as pd ## Para la manipulación de datos en un dataframe\n",
    "import ee # # Para autenticarse e iniciar en Earth Engine\n",
    "import geemap # Un módulo dinámico de Google Earth Engine\n",
    "import fiona # Una API de GDAL en Python\n",
    "from shapely.geometry import shape ## Manipulación de geometrías \n",
    "import os #Para asignar y modificar directorios\n",
    "import json # Para crear objetos en formato .json\n",
    "from scipy import signal ## Para la aplicación del filtro Savitsky Golay\n",
    "import rasterio as rio ## Para la amnipulación de arhivos raster\n",
    "from rasterio.enums import Resampling ## Para hacer el resampleo de los raster"
   ]
  },
  {
   "cell_type": "markdown",
   "id": "8b7f4a3d",
   "metadata": {},
   "source": [
    "## Inicializando en Google Earth Engine"
   ]
  },
  {
   "cell_type": "code",
   "execution_count": 2,
   "id": "9036638a",
   "metadata": {},
   "outputs": [],
   "source": [
    "## Función para inciializar en Google Earth Engine\n",
    "def ee_initialize(): \n",
    "    try:\n",
    "        ee.Initialize()\n",
    "    except:\n",
    "        ee.Authenticate()\n",
    "        ee.Initialize()"
   ]
  },
  {
   "cell_type": "code",
   "execution_count": 3,
   "id": "4909f107",
   "metadata": {},
   "outputs": [],
   "source": [
    "ee_initialize() ## Inicializando Google Earth Engine"
   ]
  },
  {
   "cell_type": "markdown",
   "id": "dceae3e4",
   "metadata": {},
   "source": [
    "## Definiendo la región de interés de la zona"
   ]
  },
  {
   "cell_type": "code",
   "execution_count": 4,
   "id": "ad0e7777",
   "metadata": {},
   "outputs": [],
   "source": [
    "## Definiendo el directorio de trabajo principal\n",
    "workspace = r\"/home/jairflores/Documentos/UNMSM/Fires_Project/AnalisOcurrenIncendiosR\" ## **Modificar el directorio** ##"
   ]
  },
  {
   "cell_type": "code",
   "execution_count": 5,
   "id": "24ce818b",
   "metadata": {},
   "outputs": [],
   "source": [
    "def roi(filepath):\n",
    "    with fiona.open(filepath, \"r\", enabled_drivers=\"GPKG\") as source:\n",
    "        for f in source:\n",
    "            geom = shape(f['geometry']).bounds            \n",
    "           ## Generando coordenadas a partir de los bounds\n",
    "            p1   = [geom[0], geom[3]] ## minx y maxy\n",
    "            p2  = [geom[0], geom[1]] ## minx y miny\n",
    "            p3  = [geom[2], geom[1]] ## maxx y miny \n",
    "            p4  = [geom[2], geom[3]] ## maxx y maxy\n",
    "           \n",
    "        return [p1, p2, p3, p4]"
   ]
  },
  {
   "cell_type": "code",
   "execution_count": 6,
   "id": "93067d6b",
   "metadata": {},
   "outputs": [],
   "source": [
    "shape_path = os.path.join(workspace,\"Materiales/Cutervo.gpkg\")\n",
    "## Obteniendo la ROI del  feature\n",
    "roi_cutervo = roi(shape_path)"
   ]
  },
  {
   "cell_type": "markdown",
   "id": "af1edfa7",
   "metadata": {},
   "source": [
    "##  Obteniendo la coleccion de imagenes MODIS13Q1 para el NDVI y banda de calidad (QA)"
   ]
  },
  {
   "cell_type": "code",
   "execution_count": 7,
   "id": "2e30a317",
   "metadata": {},
   "outputs": [
    {
     "data": {
      "text/plain": [
       "['NDVI',\n",
       " 'EVI',\n",
       " 'DetailedQA',\n",
       " 'sur_refl_b01',\n",
       " 'sur_refl_b02',\n",
       " 'sur_refl_b03',\n",
       " 'sur_refl_b07',\n",
       " 'ViewZenith',\n",
       " 'SolarZenith',\n",
       " 'RelativeAzimuth',\n",
       " 'DayOfYear',\n",
       " 'SummaryQA']"
      ]
     },
     "execution_count": 7,
     "metadata": {},
     "output_type": "execute_result"
    }
   ],
   "source": [
    "## Obteniendo el nombre de las bandas del MOD13Q1\n",
    "ee.ImageCollection(\"MODIS/006/MOD13Q1\").aggregate_array('system:band_names').getInfo()[0]"
   ]
  },
  {
   "cell_type": "code",
   "execution_count": 8,
   "id": "b84675a4",
   "metadata": {},
   "outputs": [],
   "source": [
    "aoi = ee.Geometry.Polygon(roi_cutervo, None, False)\n",
    "# Factor de escala para el producto MODIS MOD13Q1 \n",
    "def scale_factor(image):\n",
    "    return image.multiply(0.0001).copyProperties(image, ['system:time_start','system:time_end']) ## Copiando propiedades de la fecha de cada imagen"
   ]
  },
  {
   "cell_type": "code",
   "execution_count": 9,
   "id": "0396f58a",
   "metadata": {},
   "outputs": [],
   "source": [
    "## Filtrando las imagenes por Google Earth Engine\n",
    "## Colección de imagenes del NDVI\n",
    "ndvi_dataset= ee.ImageCollection(\"MODIS/006/MOD13Q1\").select('NDVI')\\\n",
    "                                 .filter(ee.Filter.date('2001-01-01', '2018-12-31'))\\\n",
    "                                 .map(scale_factor)\n",
    "## Colección de imagenes de la QA\n",
    "qa_dataset = ee.ImageCollection(\"MODIS/006/MOD13Q1\").select('DetailedQA')\\\n",
    "                                .filter(ee.Filter.date('2001-01-01', '2018-12-31'))\n",
    "count = int(ndvi_dataset.size().getInfo()) ## Número de imagenes del Image Collection\n",
    "ndvi_images = ndvi_dataset.toList(count)  ## Lista de las imagenes NDVI\n",
    "qa_images = qa_dataset.toList(count)  ## Lista de las imagenes de QA"
   ]
  },
  {
   "cell_type": "markdown",
   "id": "497ad06b",
   "metadata": {},
   "source": [
    "## Filtro de calidad por omisión de los píxeles malos"
   ]
  },
  {
   "cell_type": "markdown",
   "id": "2389e4cc",
   "metadata": {},
   "source": [
    "### Calculando los píxeles malos en binario"
   ]
  },
  {
   "cell_type": "code",
   "execution_count": 10,
   "id": "0e6b556c",
   "metadata": {},
   "outputs": [],
   "source": [
    "## Obteniendo los binarios  a partir de un decimal\n",
    "def binarizar(decimal):\n",
    "    binario = ''\n",
    "    while decimal // 2 != 0:\n",
    "        binario = str(decimal % 2) + binario\n",
    "        decimal = decimal // 2\n",
    "    return \"0\"*(16-(len(binario)+1))+ str(decimal) + binario"
   ]
  },
  {
   "cell_type": "code",
   "execution_count": 11,
   "id": "d93495cf",
   "metadata": {},
   "outputs": [],
   "source": [
    "## Binarios en el rango de los decimales de 1 a 65535.\n",
    "bin_data =[]\n",
    "for i in list(range(1,65536)):\n",
    "           bin_data.append(binarizar(i))"
   ]
  },
  {
   "cell_type": "code",
   "execution_count": 12,
   "id": "398ab843",
   "metadata": {},
   "outputs": [
    {
     "data": {
      "text/html": [
       "<div>\n",
       "<style scoped>\n",
       "    .dataframe tbody tr th:only-of-type {\n",
       "        vertical-align: middle;\n",
       "    }\n",
       "\n",
       "    .dataframe tbody tr th {\n",
       "        vertical-align: top;\n",
       "    }\n",
       "\n",
       "    .dataframe thead th {\n",
       "        text-align: right;\n",
       "    }\n",
       "</style>\n",
       "<table border=\"1\" class=\"dataframe\">\n",
       "  <thead>\n",
       "    <tr style=\"text-align: right;\">\n",
       "      <th></th>\n",
       "      <th>bin</th>\n",
       "      <th>decimal</th>\n",
       "    </tr>\n",
       "  </thead>\n",
       "  <tbody>\n",
       "    <tr>\n",
       "      <th>0</th>\n",
       "      <td>0000000000000001</td>\n",
       "      <td>1</td>\n",
       "    </tr>\n",
       "    <tr>\n",
       "      <th>1</th>\n",
       "      <td>0000000000000010</td>\n",
       "      <td>2</td>\n",
       "    </tr>\n",
       "    <tr>\n",
       "      <th>2</th>\n",
       "      <td>0000000000000011</td>\n",
       "      <td>3</td>\n",
       "    </tr>\n",
       "    <tr>\n",
       "      <th>3</th>\n",
       "      <td>0000000000000100</td>\n",
       "      <td>4</td>\n",
       "    </tr>\n",
       "    <tr>\n",
       "      <th>4</th>\n",
       "      <td>0000000000000101</td>\n",
       "      <td>5</td>\n",
       "    </tr>\n",
       "    <tr>\n",
       "      <th>...</th>\n",
       "      <td>...</td>\n",
       "      <td>...</td>\n",
       "    </tr>\n",
       "    <tr>\n",
       "      <th>65530</th>\n",
       "      <td>1111111111111011</td>\n",
       "      <td>65531</td>\n",
       "    </tr>\n",
       "    <tr>\n",
       "      <th>65531</th>\n",
       "      <td>1111111111111100</td>\n",
       "      <td>65532</td>\n",
       "    </tr>\n",
       "    <tr>\n",
       "      <th>65532</th>\n",
       "      <td>1111111111111101</td>\n",
       "      <td>65533</td>\n",
       "    </tr>\n",
       "    <tr>\n",
       "      <th>65533</th>\n",
       "      <td>1111111111111110</td>\n",
       "      <td>65534</td>\n",
       "    </tr>\n",
       "    <tr>\n",
       "      <th>65534</th>\n",
       "      <td>1111111111111111</td>\n",
       "      <td>65535</td>\n",
       "    </tr>\n",
       "  </tbody>\n",
       "</table>\n",
       "<p>65535 rows × 2 columns</p>\n",
       "</div>"
      ],
      "text/plain": [
       "                    bin  decimal\n",
       "0      0000000000000001        1\n",
       "1      0000000000000010        2\n",
       "2      0000000000000011        3\n",
       "3      0000000000000100        4\n",
       "4      0000000000000101        5\n",
       "...                 ...      ...\n",
       "65530  1111111111111011    65531\n",
       "65531  1111111111111100    65532\n",
       "65532  1111111111111101    65533\n",
       "65533  1111111111111110    65534\n",
       "65534  1111111111111111    65535\n",
       "\n",
       "[65535 rows x 2 columns]"
      ]
     },
     "execution_count": 12,
     "metadata": {},
     "output_type": "execute_result"
    }
   ],
   "source": [
    "## Creando un dataframe con las columnas binario y decimal\n",
    "d = {'bin': bin_data, 'decimal': list(range(1,65536))}\n",
    "data_frame = pd.DataFrame(data=d)\n",
    "data_frame"
   ]
  },
  {
   "cell_type": "code",
   "execution_count": 13,
   "id": "cbf49954",
   "metadata": {},
   "outputs": [
    {
     "data": {
      "text/html": [
       "<div>\n",
       "<style scoped>\n",
       "    .dataframe tbody tr th:only-of-type {\n",
       "        vertical-align: middle;\n",
       "    }\n",
       "\n",
       "    .dataframe tbody tr th {\n",
       "        vertical-align: top;\n",
       "    }\n",
       "\n",
       "    .dataframe thead th {\n",
       "        text-align: right;\n",
       "    }\n",
       "</style>\n",
       "<table border=\"1\" class=\"dataframe\">\n",
       "  <thead>\n",
       "    <tr style=\"text-align: right;\">\n",
       "      <th></th>\n",
       "      <th>bin</th>\n",
       "      <th>decimal</th>\n",
       "    </tr>\n",
       "  </thead>\n",
       "  <tbody>\n",
       "    <tr>\n",
       "      <th>0</th>\n",
       "      <td>0000000000000001</td>\n",
       "      <td>1</td>\n",
       "    </tr>\n",
       "    <tr>\n",
       "      <th>1</th>\n",
       "      <td>0000000000000010</td>\n",
       "      <td>2</td>\n",
       "    </tr>\n",
       "    <tr>\n",
       "      <th>2</th>\n",
       "      <td>0000000000000011</td>\n",
       "      <td>3</td>\n",
       "    </tr>\n",
       "    <tr>\n",
       "      <th>3</th>\n",
       "      <td>0000000000000100</td>\n",
       "      <td>4</td>\n",
       "    </tr>\n",
       "    <tr>\n",
       "      <th>4</th>\n",
       "      <td>0000000000000101</td>\n",
       "      <td>5</td>\n",
       "    </tr>\n",
       "    <tr>\n",
       "      <th>...</th>\n",
       "      <td>...</td>\n",
       "      <td>...</td>\n",
       "    </tr>\n",
       "    <tr>\n",
       "      <th>65530</th>\n",
       "      <td>1111111111111011</td>\n",
       "      <td>65531</td>\n",
       "    </tr>\n",
       "    <tr>\n",
       "      <th>65531</th>\n",
       "      <td>1111111111111100</td>\n",
       "      <td>65532</td>\n",
       "    </tr>\n",
       "    <tr>\n",
       "      <th>65532</th>\n",
       "      <td>1111111111111101</td>\n",
       "      <td>65533</td>\n",
       "    </tr>\n",
       "    <tr>\n",
       "      <th>65533</th>\n",
       "      <td>1111111111111110</td>\n",
       "      <td>65534</td>\n",
       "    </tr>\n",
       "    <tr>\n",
       "      <th>65534</th>\n",
       "      <td>1111111111111111</td>\n",
       "      <td>65535</td>\n",
       "    </tr>\n",
       "  </tbody>\n",
       "</table>\n",
       "<p>63999 rows × 2 columns</p>\n",
       "</div>"
      ],
      "text/plain": [
       "                    bin  decimal\n",
       "0      0000000000000001        1\n",
       "1      0000000000000010        2\n",
       "2      0000000000000011        3\n",
       "3      0000000000000100        4\n",
       "4      0000000000000101        5\n",
       "...                 ...      ...\n",
       "65530  1111111111111011    65531\n",
       "65531  1111111111111100    65532\n",
       "65532  1111111111111101    65533\n",
       "65533  1111111111111110    65534\n",
       "65534  1111111111111111    65535\n",
       "\n",
       "[63999 rows x 2 columns]"
      ]
     },
     "execution_count": 13,
     "metadata": {},
     "output_type": "execute_result"
    }
   ],
   "source": [
    "## Filtrando los binarios que indican pixeles malos.\n",
    "data_bindf = data_frame[data_frame['bin'].apply(lambda x:\n",
    "                                                x[0] == \"1\" or x[5] == \"1\" or x[7] == \"1\"  ## Yes on mixed clouds, possible shadow and adjacent cloud detected \n",
    "                                                or x[8:10] == \"00\" or x[8:10] == \"11\" or x[10:14] == \"1111\" ## Aerosol quantity high and climatology, Not useful for any other reason/not processed\n",
    "                                                or x[10:14] == \"1110\" or x[10:14] == \"1101\" or x[10:14] == \"1100\" ## L1B data faulty, Quality so low that it is not useful and Lowest quality \n",
    "                                                or x[14:16] == \"10\" or x[14:16] == \"11\")] ## Pixel produced, but most probably cloud  and not produced due to other reasons than clouds\n",
    "data_bindf"
   ]
  },
  {
   "cell_type": "code",
   "execution_count": 14,
   "id": "b89d8fc5",
   "metadata": {},
   "outputs": [],
   "source": [
    "## Definiendo antes la transformación afín de cada raster según los bounds del layer\n",
    "def transform(filepath):\n",
    "    with fiona.open(filepath, \"r\", enabled_drivers=\"GPKG\") as source:\n",
    "        for f in source:\n",
    "            geom = shape(f['geometry']).bounds\n",
    "        return geom\n",
    "    \n",
    "## Luego, definimos una función para escribir los matrices resultantes en raster\n",
    "def writeRaster(arr,filepath, out_dir):\n",
    "        new_dataset = rio.open(out_dir, 'w', driver='GTiff',\n",
    "                                    height = arr.shape[0], width = arr.shape[1],\n",
    "                                    count=1, dtype=str(arr.dtype),\n",
    "                                    crs='+proj=longlat +ellps=WGS84 +datum=WGS84 +no_defs ',\n",
    "                                    transform=rio.transform.from_bounds(transform(filepath)[0], transform(filepath)[1],transform(filepath)[2], transform(filepath)[3],\n",
    "                                                                                                                   arr.shape[1], arr.shape[0]))\n",
    "        new_dataset.write(arr, 1)\n",
    "        new_dataset.close()"
   ]
  },
  {
   "cell_type": "markdown",
   "id": "34233127",
   "metadata": {},
   "source": [
    "### Obteniendo los raster con el filtro de calidad"
   ]
  },
  {
   "cell_type": "code",
   "execution_count": 15,
   "id": "6bab52d1",
   "metadata": {},
   "outputs": [],
   "source": [
    "for i in range(0, count):\n",
    "        ## Obteniendo array a partir del Google Earth Engine\n",
    "        ndvi_array=np.array(ee.Image(ndvi_images.get(i))\\\n",
    "                                               .sampleRectangle(region=aoi, defaultValue=-2)\\\n",
    "                                               .get(\"NDVI\").getInfo())\n",
    "        qa_array = np.array(ee.Image(qa_images.get(i))\\\n",
    "                                              .sampleRectangle(region=aoi, defaultValue=0)\\\n",
    "                                              .get(\"DetailedQA\").getInfo())\n",
    "        \n",
    "        ##  Cambiar los valores por defecto a NaN values\n",
    "        ndvi_arr= np.where(ndvi_array==-2,np.nan,ndvi_array)\n",
    "        qa_arr = np.where(ndvi_array== 0,np.nan,qa_array)\n",
    "        \n",
    "        ##  Filtrando el NDVI sin contar los pixeles malos\n",
    "        mask = np.isin(qa_arr, np.array(data_bindf.decimal))\n",
    "        qa_arr[mask] = np.nan\n",
    "        qa_arr[~mask] = 1\n",
    "        ndvi_filter = ndvi_arr*qa_arr\n",
    "        \n",
    "        ## Guardandolo como raster\n",
    "        start = ee.Date(ee.Image(ndvi_images.get(i)).get(\"system:time_start\")).format('YYYY-MM-dd').getInfo() \n",
    "        end = ee.Date(  ee.Image(ndvi_images.get(i)).get(\"system:time_end\")).format('YYYY-MM-dd').getInfo()\n",
    "        filename= \"MOD13Q1_NDVI_filter_250m_16days\" + \"_\" + \"{}\".format(start) +\"_\" +\"{}\".format(end) + \".tif\"\n",
    "        filtrado = os.path.join( workspace,\"RasterData/MODQ1/Filtrado\")\n",
    "        out_dir = os.path.join(filtrado,filename)\n",
    "        writeRaster(ndvi_filter,shape_path,out_dir)"
   ]
  },
  {
   "cell_type": "markdown",
   "id": "d1cdbd31",
   "metadata": {},
   "source": [
    "## Resampleando los raster de 250m a 5km"
   ]
  },
  {
   "cell_type": "code",
   "execution_count": 16,
   "id": "a9fad89a",
   "metadata": {},
   "outputs": [],
   "source": [
    "def rescaling(tif_path,out_dir, scale):    \n",
    "        with rio.open(tif_path) as dataset:\n",
    "            \n",
    "            # resample data to target shape\n",
    "            data =dataset.read( \n",
    "                out_shape=(\n",
    "                    dataset.count,\n",
    "                    int(dataset.height * scale),\n",
    "                    int(dataset.width * scale)\n",
    "                ),\n",
    "                resampling=Resampling.bilinear\n",
    "            )\n",
    "\n",
    "            # scale image transform\n",
    "            transform = dataset.transform * dataset.transform.scale(\n",
    "                (dataset.width / data.shape[-1]),\n",
    "                (dataset.height / data.shape[-2])\n",
    "            )\n",
    "          \n",
    "        new_dataset = rio.open(out_dir, 'w', driver='GTiff',\n",
    "                                    height = int(dataset.height * scale) , width =  int(dataset.width * scale),\n",
    "                                    count=1, dtype=str(data.dtype),\n",
    "                                    crs='+proj=longlat +ellps=WGS84 +datum=WGS84 +no_defs ',\n",
    "                                    transform = dataset.transform * dataset.transform.scale(\n",
    "                                    (dataset.width / data.shape[-1]),\n",
    "                                    (dataset.height / data.shape[-2])))\n",
    "        new_dataset.write(data)\n",
    "        new_dataset.close()"
   ]
  },
  {
   "cell_type": "code",
   "execution_count": 17,
   "id": "3febe6a5",
   "metadata": {},
   "outputs": [],
   "source": [
    "filtrado = os.path.join(workspace,\"RasterData/MODQ1/Filtrado\")\n",
    "resampleado = os.path.join(workspace,\"RasterData/MODQ1/Resampleado\")\n",
    "for t in os.listdir(filtrado):\n",
    "        filename= \"MOD13Q1_NDVI_resamp_5km_16days\" + \"_\" + \"{}\".format(t.split(\"_\")[5]) +\"_\" +\"{}\".format(t.split(\"_\")[6])\n",
    "        out_dir = os.path.join(resampleado,filename)\n",
    "        rescaling(os.path.join(filtrado, t),out_dir, scale=1/20)"
   ]
  },
  {
   "cell_type": "markdown",
   "id": "cdc67a94",
   "metadata": {},
   "source": [
    "## Aplicando el filtro Savistky Golay"
   ]
  },
  {
   "cell_type": "code",
   "execution_count": 18,
   "id": "e62a3dd0",
   "metadata": {},
   "outputs": [],
   "source": [
    "def fixed_index(index):\n",
    "    fixed = []\n",
    "    for a in range(0,len(index)):\n",
    "        mean = np.nanmean(index,axis=0)\n",
    "        fixed.append(np.where(np.isnan(index[a]),mean,index[a]))\n",
    "    return fixed"
   ]
  },
  {
   "cell_type": "code",
   "execution_count": 19,
   "id": "14073665",
   "metadata": {},
   "outputs": [],
   "source": [
    "index=[]\n",
    "date = []\n",
    "for t in os.listdir(resampleado):\n",
    "        with rio.open(os.path.join(resampleado,t)) as src:\n",
    "                    index.append(src.read(1))        \n",
    "                    transform_res = src.transform\n",
    "                    date.append(t.split(\"_\")[5])\n",
    "ind_ = fixed_index(index)\n",
    "\n",
    "# Dictionary\n",
    "data = {\"Date\":date, \"Index\": ind_}\n",
    "\n",
    "# Data frame\n",
    "df = pd.DataFrame(data,columns = [\"Date\",\"Index\"])\n",
    "\n",
    "# Converting to date time\n",
    "df[\"Date\"] =pd.to_datetime(df[\"Date\"], format='%Y-%m-%d', errors='coerce')\n",
    "df.sort_values(by=\"Date\", key=pd.to_datetime, inplace=True)\n",
    "\n",
    "##  Filepath for SavGol\n",
    "savgol = os.path.join(workspace,\"RasterData/MODQ1/SavGol\")\n",
    "\n",
    "## Agrupar por mes\n",
    "df['month'] = pd.DatetimeIndex(df['Date']).month\n",
    "\n",
    "##Aplicando el filtro de Savitsky Golay\n",
    "## Agrupando matrices para faciltar el cálculo\n",
    "stack=np.stack(pd.Series(df[\"Index\"]))\n",
    "\n",
    "## Agrupando para que evaluar cada pixel a través del tiempo\n",
    "stack_tp =np.transpose(stack)\n",
    "\n",
    "## Aplicando el filtro de Savistky Golay\n",
    "savgol_filter = signal.savgol_filter(stack_tp,7,4)\n",
    "\n",
    "## Volviendolo a su forma original\n",
    "savgol_origin =np.transpose(savgol_filter)"
   ]
  },
  {
   "cell_type": "code",
   "execution_count": 21,
   "id": "1ab09930",
   "metadata": {},
   "outputs": [],
   "source": [
    "res_list=[]\n",
    "for i in os.listdir(resampleado):\n",
    "       res_list.append(os.path.join(resampleado,i))\n",
    "# Read metadata of first file\n",
    "with rio.open(res_list[0]) as src0:\n",
    "            meta = src0.meta\n",
    "            transform_res = src0.transform\n",
    "# Update meta to reflect the number of layers\n",
    "meta.update(count = len(res_list))            "
   ]
  },
  {
   "cell_type": "code",
   "execution_count": 22,
   "id": "90798cbc",
   "metadata": {},
   "outputs": [],
   "source": [
    "## Crando raster por cada matriz \n",
    "for i in range(0,len(df[\"Index\"])):\n",
    "    filename= \"MOD13Q1_NDVI_SavGol_5km_16days\" + \"_\" + \"{}\".format(str(df[\"Date\"][i]).split(\" \")[0]) + \".tif\"\n",
    "    out_dir = os.path.join(savgol,filename)\n",
    "    arr=savgol_origin[i]\n",
    "    new_dataset = rio.open(out_dir, 'w', driver='GTiff',\n",
    "                            height = arr.shape[0], width = arr.shape[1],\n",
    "                            count=1, dtype=str(arr.dtype),\n",
    "                            crs='+proj=longlat +ellps=WGS84 +datum=WGS84 +no_defs ',\n",
    "                            transform= transform_res)\n",
    "    new_dataset.write(arr, 1)\n",
    "    new_dataset.close()"
   ]
  },
  {
   "cell_type": "code",
   "execution_count": 23,
   "id": "3af670fe",
   "metadata": {},
   "outputs": [],
   "source": [
    "tif_list=[]\n",
    "for i in os.listdir(savgol):\n",
    "       tif_list.append(os.path.join(savgol,i))\n",
    "# Read metadata of first file\n",
    "with rio.open(res_list[0]) as src0:\n",
    "            meta = src0.meta\n",
    "            transform_sg = src0.transform\n",
    "# Update meta to reflect the number of layers\n",
    "meta.update(count = len(tif_list)) \n",
    "# Read each layer and write it to stack\n",
    "with rio.open(os.path.join(savgol,'savgol_stack.tif'), 'w', **meta) as dst:\n",
    "        for id, layer in enumerate(tif_list, start=1):\n",
    "            with rio.open(layer) as src1:\n",
    "                dst.write_band(id, src1.read(1))"
   ]
  },
  {
   "cell_type": "code",
   "execution_count": 24,
   "id": "fb8d2069",
   "metadata": {},
   "outputs": [],
   "source": [
    "## Guardando el dataframe en un csv\n",
    "df[[\"Date\",\"month\"]].to_csv(os.path.join(savgol,\"data_SavGol.csv\"),index=False)"
   ]
  }
 ],
 "metadata": {
  "kernelspec": {
   "display_name": "Python 3 (ipykernel)",
   "language": "python",
   "name": "python3"
  },
  "language_info": {
   "codemirror_mode": {
    "name": "ipython",
    "version": 3
   },
   "file_extension": ".py",
   "mimetype": "text/x-python",
   "name": "python",
   "nbconvert_exporter": "python",
   "pygments_lexer": "ipython3",
   "version": "3.8.2"
  }
 },
 "nbformat": 4,
 "nbformat_minor": 5
}
